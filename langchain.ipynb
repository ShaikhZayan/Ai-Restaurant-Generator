{
 "cells": [
  {
   "cell_type": "markdown",
   "metadata": {},
   "source": [
    "# LANGCHAIN WORK\n"
   ]
  },
  {
   "cell_type": "code",
   "execution_count": 1,
   "metadata": {},
   "outputs": [
    {
     "name": "stdout",
     "output_type": "stream",
     "text": [
      "Collecting langchain\n",
      "  Downloading langchain-0.0.352-py3-none-any.whl.metadata (13 kB)\n",
      "Collecting PyYAML>=5.3 (from langchain)\n",
      "  Downloading PyYAML-6.0.1-cp311-cp311-win_amd64.whl.metadata (2.1 kB)\n",
      "Collecting SQLAlchemy<3,>=1.4 (from langchain)\n",
      "  Downloading SQLAlchemy-2.0.24-cp311-cp311-win_amd64.whl.metadata (9.8 kB)\n",
      "Requirement already satisfied: aiohttp<4.0.0,>=3.8.3 in c:\\users\\shaikh zayan\\anaconda3\\envs\\mychatbot\\lib\\site-packages (from langchain) (3.9.1)\n",
      "Collecting dataclasses-json<0.7,>=0.5.7 (from langchain)\n",
      "  Using cached dataclasses_json-0.6.3-py3-none-any.whl.metadata (25 kB)\n",
      "Collecting jsonpatch<2.0,>=1.33 (from langchain)\n",
      "  Using cached jsonpatch-1.33-py2.py3-none-any.whl.metadata (3.0 kB)\n",
      "Collecting langchain-community<0.1,>=0.0.2 (from langchain)\n",
      "  Downloading langchain_community-0.0.6-py3-none-any.whl.metadata (7.2 kB)\n",
      "Collecting langchain-core<0.2,>=0.1 (from langchain)\n",
      "  Downloading langchain_core-0.1.3-py3-none-any.whl.metadata (4.0 kB)\n",
      "Collecting langsmith<0.1.0,>=0.0.70 (from langchain)\n",
      "  Downloading langsmith-0.0.75-py3-none-any.whl.metadata (10 kB)\n",
      "Requirement already satisfied: numpy<2,>=1 in c:\\users\\shaikh zayan\\anaconda3\\envs\\mychatbot\\lib\\site-packages (from langchain) (1.26.2)\n",
      "Collecting pydantic<3,>=1 (from langchain)\n",
      "  Downloading pydantic-2.5.3-py3-none-any.whl.metadata (65 kB)\n",
      "     ---------------------------------------- 0.0/65.6 kB ? eta -:--:--\n",
      "     ------------------ --------------------- 30.7/65.6 kB 1.4 MB/s eta 0:00:01\n",
      "     ------------------ --------------------- 30.7/65.6 kB 1.4 MB/s eta 0:00:01\n",
      "     -------------------------------------- 65.6/65.6 kB 709.7 kB/s eta 0:00:00\n",
      "Requirement already satisfied: requests<3,>=2 in c:\\users\\shaikh zayan\\anaconda3\\envs\\mychatbot\\lib\\site-packages (from langchain) (2.31.0)\n",
      "Requirement already satisfied: tenacity<9.0.0,>=8.1.0 in c:\\users\\shaikh zayan\\anaconda3\\envs\\mychatbot\\lib\\site-packages (from langchain) (8.2.3)\n",
      "Requirement already satisfied: attrs>=17.3.0 in c:\\users\\shaikh zayan\\anaconda3\\envs\\mychatbot\\lib\\site-packages (from aiohttp<4.0.0,>=3.8.3->langchain) (23.1.0)\n",
      "Requirement already satisfied: multidict<7.0,>=4.5 in c:\\users\\shaikh zayan\\anaconda3\\envs\\mychatbot\\lib\\site-packages (from aiohttp<4.0.0,>=3.8.3->langchain) (6.0.4)\n",
      "Requirement already satisfied: yarl<2.0,>=1.0 in c:\\users\\shaikh zayan\\anaconda3\\envs\\mychatbot\\lib\\site-packages (from aiohttp<4.0.0,>=3.8.3->langchain) (1.9.4)\n",
      "Requirement already satisfied: frozenlist>=1.1.1 in c:\\users\\shaikh zayan\\anaconda3\\envs\\mychatbot\\lib\\site-packages (from aiohttp<4.0.0,>=3.8.3->langchain) (1.4.1)\n",
      "Requirement already satisfied: aiosignal>=1.1.2 in c:\\users\\shaikh zayan\\anaconda3\\envs\\mychatbot\\lib\\site-packages (from aiohttp<4.0.0,>=3.8.3->langchain) (1.3.1)\n",
      "Collecting marshmallow<4.0.0,>=3.18.0 (from dataclasses-json<0.7,>=0.5.7->langchain)\n",
      "  Using cached marshmallow-3.20.1-py3-none-any.whl.metadata (7.8 kB)\n",
      "Collecting typing-inspect<1,>=0.4.0 (from dataclasses-json<0.7,>=0.5.7->langchain)\n",
      "  Using cached typing_inspect-0.9.0-py3-none-any.whl.metadata (1.5 kB)\n",
      "Collecting jsonpointer>=1.9 (from jsonpatch<2.0,>=1.33->langchain)\n",
      "  Using cached jsonpointer-2.4-py2.py3-none-any.whl.metadata (2.5 kB)\n",
      "Collecting anyio<5,>=3 (from langchain-core<0.2,>=0.1->langchain)\n",
      "  Downloading anyio-4.2.0-py3-none-any.whl.metadata (4.6 kB)\n",
      "Requirement already satisfied: packaging<24.0,>=23.2 in c:\\users\\shaikh zayan\\anaconda3\\envs\\mychatbot\\lib\\site-packages (from langchain-core<0.2,>=0.1->langchain) (23.2)\n",
      "Collecting annotated-types>=0.4.0 (from pydantic<3,>=1->langchain)\n",
      "  Using cached annotated_types-0.6.0-py3-none-any.whl.metadata (12 kB)\n",
      "Collecting pydantic-core==2.14.6 (from pydantic<3,>=1->langchain)\n",
      "  Downloading pydantic_core-2.14.6-cp311-none-win_amd64.whl.metadata (6.6 kB)\n",
      "Requirement already satisfied: typing-extensions>=4.6.1 in c:\\users\\shaikh zayan\\anaconda3\\envs\\mychatbot\\lib\\site-packages (from pydantic<3,>=1->langchain) (4.9.0)\n",
      "Requirement already satisfied: charset-normalizer<4,>=2 in c:\\users\\shaikh zayan\\anaconda3\\envs\\mychatbot\\lib\\site-packages (from requests<3,>=2->langchain) (3.3.2)\n",
      "Requirement already satisfied: idna<4,>=2.5 in c:\\users\\shaikh zayan\\anaconda3\\envs\\mychatbot\\lib\\site-packages (from requests<3,>=2->langchain) (3.6)\n",
      "Requirement already satisfied: urllib3<3,>=1.21.1 in c:\\users\\shaikh zayan\\anaconda3\\envs\\mychatbot\\lib\\site-packages (from requests<3,>=2->langchain) (2.1.0)\n",
      "Requirement already satisfied: certifi>=2017.4.17 in c:\\users\\shaikh zayan\\anaconda3\\envs\\mychatbot\\lib\\site-packages (from requests<3,>=2->langchain) (2023.11.17)\n",
      "Collecting greenlet!=0.4.17 (from SQLAlchemy<3,>=1.4->langchain)\n",
      "  Downloading greenlet-3.0.3-cp311-cp311-win_amd64.whl.metadata (3.9 kB)\n",
      "Collecting sniffio>=1.1 (from anyio<5,>=3->langchain-core<0.2,>=0.1->langchain)\n",
      "  Using cached sniffio-1.3.0-py3-none-any.whl (10 kB)\n",
      "Collecting mypy-extensions>=0.3.0 (from typing-inspect<1,>=0.4.0->dataclasses-json<0.7,>=0.5.7->langchain)\n",
      "  Using cached mypy_extensions-1.0.0-py3-none-any.whl (4.7 kB)\n",
      "Downloading langchain-0.0.352-py3-none-any.whl (794 kB)\n",
      "   ---------------------------------------- 0.0/794.4 kB ? eta -:--:--\n",
      "   ------ --------------------------------- 122.9/794.4 kB 2.4 MB/s eta 0:00:01\n",
      "   --------- ------------------------------ 194.6/794.4 kB 3.0 MB/s eta 0:00:01\n",
      "   ------------ --------------------------- 245.8/794.4 kB 2.2 MB/s eta 0:00:01\n",
      "   ---------------------- ----------------- 450.6/794.4 kB 2.8 MB/s eta 0:00:01\n",
      "   ------------------------- -------------- 501.8/794.4 kB 2.6 MB/s eta 0:00:01\n",
      "   -------------------------------------- - 757.8/794.4 kB 3.4 MB/s eta 0:00:01\n",
      "   -------------------------------------- - 757.8/794.4 kB 3.4 MB/s eta 0:00:01\n",
      "   ---------------------------------------  788.5/794.4 kB 2.6 MB/s eta 0:00:01\n",
      "   ---------------------------------------- 794.4/794.4 kB 2.4 MB/s eta 0:00:00\n",
      "Using cached dataclasses_json-0.6.3-py3-none-any.whl (28 kB)\n",
      "Using cached jsonpatch-1.33-py2.py3-none-any.whl (12 kB)\n",
      "Downloading langchain_community-0.0.6-py3-none-any.whl (1.5 MB)\n",
      "   ---------------------------------------- 0.0/1.5 MB ? eta -:--:--\n",
      "   ------- -------------------------------- 0.3/1.5 MB 17.3 MB/s eta 0:00:01\n",
      "   ------- -------------------------------- 0.3/1.5 MB 17.3 MB/s eta 0:00:01\n",
      "   ------- -------------------------------- 0.3/1.5 MB 17.3 MB/s eta 0:00:01\n",
      "   ------- -------------------------------- 0.3/1.5 MB 17.3 MB/s eta 0:00:01\n",
      "   ------------- -------------------------- 0.5/1.5 MB 2.6 MB/s eta 0:00:01\n",
      "   -------------- ------------------------- 0.5/1.5 MB 2.6 MB/s eta 0:00:01\n",
      "   ------------------- -------------------- 0.7/1.5 MB 2.6 MB/s eta 0:00:01\n",
      "   ------------------- -------------------- 0.7/1.5 MB 2.6 MB/s eta 0:00:01\n",
      "   ----------------------- ---------------- 0.9/1.5 MB 2.5 MB/s eta 0:00:01\n",
      "   ----------------------- ---------------- 0.9/1.5 MB 2.5 MB/s eta 0:00:01\n",
      "   -------------------------- ------------- 1.0/1.5 MB 2.4 MB/s eta 0:00:01\n",
      "   --------------------------- ------------ 1.0/1.5 MB 2.4 MB/s eta 0:00:01\n",
      "   ----------------------------- ---------- 1.1/1.5 MB 2.2 MB/s eta 0:00:01\n",
      "   ------------------------------ --------- 1.2/1.5 MB 2.2 MB/s eta 0:00:01\n",
      "   --------------------------------- ------ 1.3/1.5 MB 2.2 MB/s eta 0:00:01\n",
      "   ------------------------------------- -- 1.4/1.5 MB 2.3 MB/s eta 0:00:01\n",
      "   ---------------------------------------  1.5/1.5 MB 2.3 MB/s eta 0:00:01\n",
      "   ---------------------------------------- 1.5/1.5 MB 2.1 MB/s eta 0:00:00\n",
      "Downloading langchain_core-0.1.3-py3-none-any.whl (192 kB)\n",
      "   ---------------------------------------- 0.0/192.4 kB ? eta -:--:--\n",
      "   -------------------------------------- - 184.3/192.4 kB 5.6 MB/s eta 0:00:01\n",
      "   ---------------------------------------- 192.4/192.4 kB 3.9 MB/s eta 0:00:00\n",
      "Downloading langsmith-0.0.75-py3-none-any.whl (46 kB)\n",
      "   ---------------------------------------- 0.0/46.7 kB ? eta -:--:--\n",
      "   ---------------------------------------- 46.7/46.7 kB 2.3 MB/s eta 0:00:00\n",
      "Downloading pydantic-2.5.3-py3-none-any.whl (381 kB)\n",
      "   ---------------------------------------- 0.0/381.9 kB ? eta -:--:--\n",
      "   --------------------- ------------------ 204.8/381.9 kB 6.3 MB/s eta 0:00:01\n",
      "   ---------------------------------- ----- 327.7/381.9 kB 4.1 MB/s eta 0:00:01\n",
      "   ---------------------------------------- 381.9/381.9 kB 4.0 MB/s eta 0:00:00\n",
      "Downloading pydantic_core-2.14.6-cp311-none-win_amd64.whl (1.9 MB)\n",
      "   ---------------------------------------- 0.0/1.9 MB ? eta -:--:--\n",
      "   --- ------------------------------------ 0.2/1.9 MB 5.1 MB/s eta 0:00:01\n",
      "   ------ --------------------------------- 0.3/1.9 MB 3.9 MB/s eta 0:00:01\n",
      "   ---------- ----------------------------- 0.5/1.9 MB 4.3 MB/s eta 0:00:01\n",
      "   ------------ --------------------------- 0.6/1.9 MB 4.2 MB/s eta 0:00:01\n",
      "   ---------------- ----------------------- 0.8/1.9 MB 4.1 MB/s eta 0:00:01\n",
      "   ----------------- ---------------------- 0.8/1.9 MB 4.1 MB/s eta 0:00:01\n",
      "   ----------------- ---------------------- 0.8/1.9 MB 4.1 MB/s eta 0:00:01\n",
      "   -------------------- ------------------- 1.0/1.9 MB 3.3 MB/s eta 0:00:01\n",
      "   ------------------------ --------------- 1.2/1.9 MB 3.2 MB/s eta 0:00:01\n",
      "   ---------------------------- ----------- 1.4/1.9 MB 3.6 MB/s eta 0:00:01\n",
      "   --------------------------------- ------ 1.6/1.9 MB 3.5 MB/s eta 0:00:01\n",
      "   ----------------------------------- ---- 1.7/1.9 MB 3.3 MB/s eta 0:00:01\n",
      "   ------------------------------------ --- 1.7/1.9 MB 3.2 MB/s eta 0:00:01\n",
      "   -------------------------------------- - 1.8/1.9 MB 3.1 MB/s eta 0:00:01\n",
      "   ---------------------------------------  1.9/1.9 MB 3.1 MB/s eta 0:00:01\n",
      "   ---------------------------------------  1.9/1.9 MB 3.1 MB/s eta 0:00:01\n",
      "   ---------------------------------------- 1.9/1.9 MB 2.8 MB/s eta 0:00:00\n",
      "Downloading PyYAML-6.0.1-cp311-cp311-win_amd64.whl (144 kB)\n",
      "   ---------------------------------------- 0.0/144.7 kB ? eta -:--:--\n",
      "   ------------------- -------------------- 71.7/144.7 kB 2.0 MB/s eta 0:00:01\n",
      "   ---------------------------------------- 144.7/144.7 kB 2.2 MB/s eta 0:00:00\n",
      "Downloading SQLAlchemy-2.0.24-cp311-cp311-win_amd64.whl (2.1 MB)\n",
      "   ---------------------------------------- 0.0/2.1 MB ? eta -:--:--\n",
      "   - -------------------------------------- 0.1/2.1 MB 2.6 MB/s eta 0:00:01\n",
      "   -- ------------------------------------- 0.2/2.1 MB 2.3 MB/s eta 0:00:01\n",
      "   ----- ---------------------------------- 0.3/2.1 MB 2.2 MB/s eta 0:00:01\n",
      "   -------- ------------------------------- 0.5/2.1 MB 2.2 MB/s eta 0:00:01\n",
      "   ------------ --------------------------- 0.6/2.1 MB 2.1 MB/s eta 0:00:01\n",
      "   -------------- ------------------------- 0.8/2.1 MB 2.1 MB/s eta 0:00:01\n",
      "   --------------- ------------------------ 0.8/2.1 MB 2.1 MB/s eta 0:00:01\n",
      "   ----------------- ---------------------- 0.9/2.1 MB 2.1 MB/s eta 0:00:01\n",
      "   ------------------- -------------------- 1.0/2.1 MB 2.1 MB/s eta 0:00:01\n",
      "   -------------------- ------------------- 1.1/2.1 MB 2.1 MB/s eta 0:00:01\n",
      "   ---------------------- ----------------- 1.1/2.1 MB 2.1 MB/s eta 0:00:01\n",
      "   ----------------------- ---------------- 1.2/2.1 MB 2.1 MB/s eta 0:00:01\n",
      "   ------------------------- -------------- 1.3/2.1 MB 2.1 MB/s eta 0:00:01\n",
      "   -------------------------- ------------- 1.4/2.1 MB 2.1 MB/s eta 0:00:01\n",
      "   ---------------------------- ----------- 1.5/2.1 MB 2.1 MB/s eta 0:00:01\n",
      "   ------------------------------ --------- 1.6/2.1 MB 2.1 MB/s eta 0:00:01\n",
      "   ------------------------------- -------- 1.6/2.1 MB 2.1 MB/s eta 0:00:01\n",
      "   --------------------------------- ------ 1.7/2.1 MB 2.1 MB/s eta 0:00:01\n",
      "   ----------------------------------- ---- 1.8/2.1 MB 2.1 MB/s eta 0:00:01\n",
      "   ------------------------------------- -- 1.9/2.1 MB 2.1 MB/s eta 0:00:01\n",
      "   ---------------------------------------  2.0/2.1 MB 2.1 MB/s eta 0:00:01\n",
      "   ---------------------------------------  2.1/2.1 MB 2.1 MB/s eta 0:00:01\n",
      "   ---------------------------------------- 2.1/2.1 MB 2.0 MB/s eta 0:00:00\n",
      "Using cached annotated_types-0.6.0-py3-none-any.whl (12 kB)\n",
      "Downloading anyio-4.2.0-py3-none-any.whl (85 kB)\n",
      "   ---------------------------------------- 0.0/85.5 kB ? eta -:--:--\n",
      "   ---------------------------------------- 85.5/85.5 kB 2.4 MB/s eta 0:00:00\n",
      "Downloading greenlet-3.0.3-cp311-cp311-win_amd64.whl (292 kB)\n",
      "   ---------------------------------------- 0.0/292.8 kB ? eta -:--:--\n",
      "   --------------- ------------------------ 112.6/292.8 kB 3.2 MB/s eta 0:00:01\n",
      "   -------------------------- ------------- 194.6/292.8 kB 2.3 MB/s eta 0:00:01\n",
      "   ---------------------------------------  286.7/292.8 kB 2.5 MB/s eta 0:00:01\n",
      "   ---------------------------------------- 292.8/292.8 kB 2.3 MB/s eta 0:00:00\n",
      "Using cached jsonpointer-2.4-py2.py3-none-any.whl (7.8 kB)\n",
      "Using cached marshmallow-3.20.1-py3-none-any.whl (49 kB)\n",
      "Using cached typing_inspect-0.9.0-py3-none-any.whl (8.8 kB)\n",
      "Installing collected packages: sniffio, PyYAML, pydantic-core, mypy-extensions, marshmallow, jsonpointer, greenlet, annotated-types, typing-inspect, SQLAlchemy, pydantic, jsonpatch, anyio, langsmith, dataclasses-json, langchain-core, langchain-community, langchain\n",
      "Successfully installed PyYAML-6.0.1 SQLAlchemy-2.0.24 annotated-types-0.6.0 anyio-4.2.0 dataclasses-json-0.6.3 greenlet-3.0.3 jsonpatch-1.33 jsonpointer-2.4 langchain-0.0.352 langchain-community-0.0.6 langchain-core-0.1.3 langsmith-0.0.75 marshmallow-3.20.1 mypy-extensions-1.0.0 pydantic-2.5.3 pydantic-core-2.14.6 sniffio-1.3.0 typing-inspect-0.9.0\n"
     ]
    }
   ],
   "source": [
    "!pip install langchain"
   ]
  },
  {
   "cell_type": "code",
   "execution_count": 2,
   "metadata": {},
   "outputs": [
    {
     "name": "stdout",
     "output_type": "stream",
     "text": [
      "Requirement already satisfied: openai in c:\\users\\shaikh zayan\\anaconda3\\envs\\mychatbot\\lib\\site-packages (0.28.0)\n",
      "Requirement already satisfied: requests>=2.20 in c:\\users\\shaikh zayan\\anaconda3\\envs\\mychatbot\\lib\\site-packages (from openai) (2.31.0)\n",
      "Requirement already satisfied: tqdm in c:\\users\\shaikh zayan\\anaconda3\\envs\\mychatbot\\lib\\site-packages (from openai) (4.66.1)\n",
      "Requirement already satisfied: aiohttp in c:\\users\\shaikh zayan\\anaconda3\\envs\\mychatbot\\lib\\site-packages (from openai) (3.9.1)\n",
      "Requirement already satisfied: charset-normalizer<4,>=2 in c:\\users\\shaikh zayan\\anaconda3\\envs\\mychatbot\\lib\\site-packages (from requests>=2.20->openai) (3.3.2)\n",
      "Requirement already satisfied: idna<4,>=2.5 in c:\\users\\shaikh zayan\\anaconda3\\envs\\mychatbot\\lib\\site-packages (from requests>=2.20->openai) (3.6)\n",
      "Requirement already satisfied: urllib3<3,>=1.21.1 in c:\\users\\shaikh zayan\\anaconda3\\envs\\mychatbot\\lib\\site-packages (from requests>=2.20->openai) (2.1.0)\n",
      "Requirement already satisfied: certifi>=2017.4.17 in c:\\users\\shaikh zayan\\anaconda3\\envs\\mychatbot\\lib\\site-packages (from requests>=2.20->openai) (2023.11.17)\n",
      "Requirement already satisfied: attrs>=17.3.0 in c:\\users\\shaikh zayan\\anaconda3\\envs\\mychatbot\\lib\\site-packages (from aiohttp->openai) (23.1.0)\n",
      "Requirement already satisfied: multidict<7.0,>=4.5 in c:\\users\\shaikh zayan\\anaconda3\\envs\\mychatbot\\lib\\site-packages (from aiohttp->openai) (6.0.4)\n",
      "Requirement already satisfied: yarl<2.0,>=1.0 in c:\\users\\shaikh zayan\\anaconda3\\envs\\mychatbot\\lib\\site-packages (from aiohttp->openai) (1.9.4)\n",
      "Requirement already satisfied: frozenlist>=1.1.1 in c:\\users\\shaikh zayan\\anaconda3\\envs\\mychatbot\\lib\\site-packages (from aiohttp->openai) (1.4.1)\n",
      "Requirement already satisfied: aiosignal>=1.1.2 in c:\\users\\shaikh zayan\\anaconda3\\envs\\mychatbot\\lib\\site-packages (from aiohttp->openai) (1.3.1)\n",
      "Requirement already satisfied: colorama in c:\\users\\shaikh zayan\\anaconda3\\envs\\mychatbot\\lib\\site-packages (from tqdm->openai) (0.4.6)\n"
     ]
    }
   ],
   "source": [
    "!pip install openai"
   ]
  },
  {
   "cell_type": "code",
   "execution_count": 1,
   "metadata": {},
   "outputs": [],
   "source": [
    "from openai import OpenAI\n",
    "from dotenv import load_dotenv, find_dotenv\n",
    "\n",
    "_ : bool = load_dotenv(find_dotenv())\n",
    "\n",
    "client : OpenAI = OpenAI()"
   ]
  },
  {
   "cell_type": "code",
   "execution_count": 42,
   "metadata": {},
   "outputs": [
    {
     "name": "stdout",
     "output_type": "stream",
     "text": [
      "\n",
      "\n",
      "\"Spice Palace\"\n"
     ]
    }
   ],
   "source": [
    "from langchain.llms import OpenAI\n",
    "\n",
    "llms = OpenAI(temperature=0.6)\n",
    "name = llms(\"I Want to Open a resturant for indian food. suggest a fency name for it Gave Just One Name\")\n",
    "print(name)"
   ]
  },
  {
   "cell_type": "code",
   "execution_count": 43,
   "metadata": {},
   "outputs": [],
   "source": [
    "from langchain.prompts import PromptTemplate\n",
    "from langchain.chains import LLMChain\n",
    "\n",
    "llms = OpenAI(temperature=0.6)\n",
    "\n",
    "\n",
    "Prompt_templete_name = PromptTemplate(\n",
    "    input_variables=['cuisine'],\n",
    "    template= \"I Want to Open a restaurant for {cuisine} food. suggest a fency name for it\"\n",
    ")\n",
    "\n",
    "name_chain = LLMChain(llm=llms, prompt=Prompt_templete_name)\n",
    "\n",
    "Prompt_templete_items = PromptTemplate(\n",
    "    input_variables=['restaurant_name'],\n",
    "    template= \" Suggest Me Menu For {restaurant_name}. return it as a comma seperated\"\n",
    ")\n",
    "\n",
    "food_items_chain = LLMChain(llm=llms, prompt=Prompt_templete_items)\n",
    "\n"
   ]
  },
  {
   "cell_type": "code",
   "execution_count": 44,
   "metadata": {},
   "outputs": [
    {
     "name": "stdout",
     "output_type": "stream",
     "text": [
      " string\n",
      "\n",
      "\"Appetizers: Chips and Salsa, Queso Fundido, Guacamole\n",
      "Entrees: Enchiladas, Tacos, Burritos, Fajitas\n",
      "Specialties: Carne Asada, Pollo al Pastor, Camarones al Mojo de Ajo\n",
      "Sides: Rice and Beans, Mexican Street Corn, Refried Beans\n",
      "Desserts: Churros, Flan, Tres Leches Cake\n",
      "Drinks: Margaritas, Mexican Beer, Horchata\"\n"
     ]
    }
   ],
   "source": [
    "from langchain.chains import SimpleSequentialChain\n",
    "\n",
    "chain = SimpleSequentialChain(chains = [name_chain, food_items_chain])\n",
    "res = chain.run(\"maxican\")\n",
    "print(res)"
   ]
  },
  {
   "cell_type": "code",
   "execution_count": 51,
   "metadata": {},
   "outputs": [],
   "source": [
    "llms = OpenAI(temperature=0.7)\n",
    "\n",
    "Prompt_templete_name = PromptTemplate(\n",
    "    input_variables=['cuisine'],\n",
    "    template= \"I Want to Open a restaurant for {cuisine} food. suggest a fency name for it just gave me one name\"\n",
    ")\n",
    "\n",
    "name_chain = LLMChain(llm=llms, prompt=Prompt_templete_name, output_key='restaurant_name')\n",
    "\n",
    "llms = OpenAI(temperature=0.7)\n",
    "\n",
    "Prompt_templete_items = PromptTemplate(\n",
    "    input_variables=['restaurant_name'],\n",
    "    template= \"Suggest Me Menu items For {restaurant_name}. return it as a comma seperated\"\n",
    ")\n",
    "\n",
    "food_items_chain = LLMChain(llm=llms, prompt=Prompt_templete_items, output_key='menu_items')\n"
   ]
  },
  {
   "cell_type": "markdown",
   "metadata": {},
   "source": [
    "#### I MADE A AI RESTAURANT NAME AND MENU GENERATOR USING **GENERATIVE AI**, **LANGCHAIN** & **OPENAI**\n",
    "> ```You Just Need To Provide The Cuisine Name To The Prompt And Wait For The Magic```"
   ]
  },
  {
   "cell_type": "code",
   "execution_count": 1,
   "metadata": {},
   "outputs": [
    {
     "ename": "NameError",
     "evalue": "name 'name_chain' is not defined",
     "output_type": "error",
     "traceback": [
      "\u001b[1;31m---------------------------------------------------------------------------\u001b[0m",
      "\u001b[1;31mNameError\u001b[0m                                 Traceback (most recent call last)",
      "Cell \u001b[1;32mIn[1], line 4\u001b[0m\n\u001b[0;32m      1\u001b[0m \u001b[38;5;28;01mfrom\u001b[39;00m \u001b[38;5;21;01mlangchain\u001b[39;00m\u001b[38;5;21;01m.\u001b[39;00m\u001b[38;5;21;01mchains\u001b[39;00m \u001b[38;5;28;01mimport\u001b[39;00m SequentialChain\n\u001b[0;32m      3\u001b[0m chain \u001b[38;5;241m=\u001b[39m SequentialChain(\n\u001b[1;32m----> 4\u001b[0m     chains \u001b[38;5;241m=\u001b[39m [\u001b[43mname_chain\u001b[49m, food_items_chain],\n\u001b[0;32m      5\u001b[0m     input_variables\u001b[38;5;241m=\u001b[39m[\u001b[38;5;124m'\u001b[39m\u001b[38;5;124mcuisine\u001b[39m\u001b[38;5;124m'\u001b[39m],\n\u001b[0;32m      6\u001b[0m     output_variables\u001b[38;5;241m=\u001b[39m[\u001b[38;5;124m'\u001b[39m\u001b[38;5;124mrestaurant_name\u001b[39m\u001b[38;5;124m'\u001b[39m, \u001b[38;5;124m'\u001b[39m\u001b[38;5;124mmenu_items\u001b[39m\u001b[38;5;124m'\u001b[39m]\n\u001b[0;32m      7\u001b[0m )\n\u001b[0;32m      9\u001b[0m chain({\u001b[38;5;124m'\u001b[39m\u001b[38;5;124mcuisine\u001b[39m\u001b[38;5;124m'\u001b[39m: \u001b[38;5;28minput\u001b[39m(\u001b[38;5;124m\"\u001b[39m\u001b[38;5;124mEnter A Cuisine\u001b[39m\u001b[38;5;124m\"\u001b[39m)})\n",
      "\u001b[1;31mNameError\u001b[0m: name 'name_chain' is not defined"
     ]
    }
   ],
   "source": [
    "from langchain.chains import SequentialChain\n",
    "\n",
    "chain = SequentialChain(\n",
    "    chains = [name_chain, food_items_chain],\n",
    "    input_variables=['cuisine'],\n",
    "    output_variables=['restaurant_name', 'menu_items']\n",
    ")\n",
    "\n",
    "chain({'cuisine': input(\"Enter A Cuisine\")})"
   ]
  }
 ],
 "metadata": {
  "kernelspec": {
   "display_name": "mychatbot",
   "language": "python",
   "name": "python3"
  },
  "language_info": {
   "codemirror_mode": {
    "name": "ipython",
    "version": 3
   },
   "file_extension": ".py",
   "mimetype": "text/x-python",
   "name": "python",
   "nbconvert_exporter": "python",
   "pygments_lexer": "ipython3",
   "version": "3.11.5"
  }
 },
 "nbformat": 4,
 "nbformat_minor": 2
}
